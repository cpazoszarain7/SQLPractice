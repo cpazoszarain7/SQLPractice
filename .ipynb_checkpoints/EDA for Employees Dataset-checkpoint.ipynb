{
 "cells": [
  {
   "cell_type": "code",
   "execution_count": 3,
   "metadata": {},
   "outputs": [],
   "source": [
    "import pandas as pd\n",
    "import numpy as np\n",
    "import matplotlib.pyplot as plt\n",
    "import seaborn as sns\n",
    "\n",
    "%matplotlib inline"
   ]
  },
  {
   "cell_type": "code",
   "execution_count": 5,
   "metadata": {},
   "outputs": [],
   "source": [
    "df = pd.read_csv('Employee.csv')"
   ]
  },
  {
   "cell_type": "code",
   "execution_count": 6,
   "metadata": {},
   "outputs": [
    {
     "data": {
      "text/html": [
       "<div>\n",
       "<style scoped>\n",
       "    .dataframe tbody tr th:only-of-type {\n",
       "        vertical-align: middle;\n",
       "    }\n",
       "\n",
       "    .dataframe tbody tr th {\n",
       "        vertical-align: top;\n",
       "    }\n",
       "\n",
       "    .dataframe thead th {\n",
       "        text-align: right;\n",
       "    }\n",
       "</style>\n",
       "<table border=\"1\" class=\"dataframe\">\n",
       "  <thead>\n",
       "    <tr style=\"text-align: right;\">\n",
       "      <th></th>\n",
       "      <th>LoginID</th>\n",
       "      <th>OrganizationLevel</th>\n",
       "      <th>JobTitle</th>\n",
       "      <th>BirthDate</th>\n",
       "      <th>MaritalStatus</th>\n",
       "      <th>Gender</th>\n",
       "      <th>VacationHours</th>\n",
       "      <th>SickLeaveHours</th>\n",
       "    </tr>\n",
       "  </thead>\n",
       "  <tbody>\n",
       "    <tr>\n",
       "      <th>0</th>\n",
       "      <td>adventure-works\\ken0</td>\n",
       "      <td>NaN</td>\n",
       "      <td>Chief Executive Officer</td>\n",
       "      <td>1969-01-29</td>\n",
       "      <td>S</td>\n",
       "      <td>M</td>\n",
       "      <td>99</td>\n",
       "      <td>69</td>\n",
       "    </tr>\n",
       "    <tr>\n",
       "      <th>1</th>\n",
       "      <td>adventure-works\\terri0</td>\n",
       "      <td>1.0</td>\n",
       "      <td>Vice President of Engineering</td>\n",
       "      <td>1971-08-01</td>\n",
       "      <td>S</td>\n",
       "      <td>F</td>\n",
       "      <td>1</td>\n",
       "      <td>20</td>\n",
       "    </tr>\n",
       "    <tr>\n",
       "      <th>2</th>\n",
       "      <td>adventure-works\\roberto0</td>\n",
       "      <td>2.0</td>\n",
       "      <td>Engineering Manager</td>\n",
       "      <td>1974-11-12</td>\n",
       "      <td>M</td>\n",
       "      <td>M</td>\n",
       "      <td>2</td>\n",
       "      <td>21</td>\n",
       "    </tr>\n",
       "    <tr>\n",
       "      <th>3</th>\n",
       "      <td>adventure-works\\rob0</td>\n",
       "      <td>3.0</td>\n",
       "      <td>Senior Tool Designer</td>\n",
       "      <td>1974-12-23</td>\n",
       "      <td>S</td>\n",
       "      <td>M</td>\n",
       "      <td>48</td>\n",
       "      <td>80</td>\n",
       "    </tr>\n",
       "    <tr>\n",
       "      <th>4</th>\n",
       "      <td>adventure-works\\rob0</td>\n",
       "      <td>3.0</td>\n",
       "      <td>Senior Tool Designer</td>\n",
       "      <td>1974-12-23</td>\n",
       "      <td>S</td>\n",
       "      <td>M</td>\n",
       "      <td>48</td>\n",
       "      <td>80</td>\n",
       "    </tr>\n",
       "    <tr>\n",
       "      <th>5</th>\n",
       "      <td>adventure-works\\gail0</td>\n",
       "      <td>3.0</td>\n",
       "      <td>Design Engineer</td>\n",
       "      <td>1952-09-27</td>\n",
       "      <td>M</td>\n",
       "      <td>F</td>\n",
       "      <td>5</td>\n",
       "      <td>22</td>\n",
       "    </tr>\n",
       "    <tr>\n",
       "      <th>6</th>\n",
       "      <td>adventure-works\\jossef0</td>\n",
       "      <td>3.0</td>\n",
       "      <td>Design Engineer</td>\n",
       "      <td>1959-03-11</td>\n",
       "      <td>M</td>\n",
       "      <td>M</td>\n",
       "      <td>6</td>\n",
       "      <td>23</td>\n",
       "    </tr>\n",
       "    <tr>\n",
       "      <th>7</th>\n",
       "      <td>adventure-works\\dylan0</td>\n",
       "      <td>3.0</td>\n",
       "      <td>Research and Development Manager</td>\n",
       "      <td>1987-02-24</td>\n",
       "      <td>M</td>\n",
       "      <td>M</td>\n",
       "      <td>61</td>\n",
       "      <td>50</td>\n",
       "    </tr>\n",
       "    <tr>\n",
       "      <th>8</th>\n",
       "      <td>adventure-works\\diane1</td>\n",
       "      <td>4.0</td>\n",
       "      <td>Research and Development Engineer</td>\n",
       "      <td>1986-06-05</td>\n",
       "      <td>S</td>\n",
       "      <td>F</td>\n",
       "      <td>62</td>\n",
       "      <td>51</td>\n",
       "    </tr>\n",
       "    <tr>\n",
       "      <th>9</th>\n",
       "      <td>adventure-works\\gigi0</td>\n",
       "      <td>4.0</td>\n",
       "      <td>Research and Development Engineer</td>\n",
       "      <td>1979-01-21</td>\n",
       "      <td>M</td>\n",
       "      <td>F</td>\n",
       "      <td>63</td>\n",
       "      <td>51</td>\n",
       "    </tr>\n",
       "  </tbody>\n",
       "</table>\n",
       "</div>"
      ],
      "text/plain": [
       "                    LoginID  OrganizationLevel  \\\n",
       "0      adventure-works\\ken0                NaN   \n",
       "1    adventure-works\\terri0                1.0   \n",
       "2  adventure-works\\roberto0                2.0   \n",
       "3      adventure-works\\rob0                3.0   \n",
       "4      adventure-works\\rob0                3.0   \n",
       "5     adventure-works\\gail0                3.0   \n",
       "6   adventure-works\\jossef0                3.0   \n",
       "7    adventure-works\\dylan0                3.0   \n",
       "8    adventure-works\\diane1                4.0   \n",
       "9     adventure-works\\gigi0                4.0   \n",
       "\n",
       "                            JobTitle   BirthDate MaritalStatus Gender  \\\n",
       "0            Chief Executive Officer  1969-01-29             S      M   \n",
       "1      Vice President of Engineering  1971-08-01             S      F   \n",
       "2                Engineering Manager  1974-11-12             M      M   \n",
       "3               Senior Tool Designer  1974-12-23             S      M   \n",
       "4               Senior Tool Designer  1974-12-23             S      M   \n",
       "5                    Design Engineer  1952-09-27             M      F   \n",
       "6                    Design Engineer  1959-03-11             M      M   \n",
       "7   Research and Development Manager  1987-02-24             M      M   \n",
       "8  Research and Development Engineer  1986-06-05             S      F   \n",
       "9  Research and Development Engineer  1979-01-21             M      F   \n",
       "\n",
       "   VacationHours  SickLeaveHours  \n",
       "0             99              69  \n",
       "1              1              20  \n",
       "2              2              21  \n",
       "3             48              80  \n",
       "4             48              80  \n",
       "5              5              22  \n",
       "6              6              23  \n",
       "7             61              50  \n",
       "8             62              51  \n",
       "9             63              51  "
      ]
     },
     "execution_count": 6,
     "metadata": {},
     "output_type": "execute_result"
    }
   ],
   "source": [
    "df.head(10)"
   ]
  },
  {
   "cell_type": "code",
   "execution_count": 7,
   "metadata": {},
   "outputs": [
    {
     "name": "stdout",
     "output_type": "stream",
     "text": [
      "<class 'pandas.core.frame.DataFrame'>\n",
      "RangeIndex: 296 entries, 0 to 295\n",
      "Data columns (total 8 columns):\n",
      " #   Column             Non-Null Count  Dtype  \n",
      "---  ------             --------------  -----  \n",
      " 0   LoginID            296 non-null    object \n",
      " 1   OrganizationLevel  295 non-null    float64\n",
      " 2   JobTitle           296 non-null    object \n",
      " 3   BirthDate          296 non-null    object \n",
      " 4   MaritalStatus      296 non-null    object \n",
      " 5   Gender             296 non-null    object \n",
      " 6   VacationHours      296 non-null    int64  \n",
      " 7   SickLeaveHours     296 non-null    int64  \n",
      "dtypes: float64(1), int64(2), object(5)\n",
      "memory usage: 18.6+ KB\n"
     ]
    }
   ],
   "source": [
    "df.info()"
   ]
  },
  {
   "cell_type": "code",
   "execution_count": 34,
   "metadata": {},
   "outputs": [
    {
     "data": {
      "text/plain": [
       "0          adventure-works\\ken0\n",
       "1        adventure-works\\terri0\n",
       "2      adventure-works\\roberto0\n",
       "3          adventure-works\\rob0\n",
       "4          adventure-works\\rob0\n",
       "                 ...           \n",
       "291       adventure-works\\lynn0\n",
       "292        adventure-works\\amy0\n",
       "293     adventure-works\\rachel0\n",
       "294        adventure-works\\jae0\n",
       "295     adventure-works\\ranjit0\n",
       "Name: LoginID, Length: 296, dtype: object"
      ]
     },
     "execution_count": 34,
     "metadata": {},
     "output_type": "execute_result"
    }
   ],
   "source": [
    "df['LoginID'].apply(str)"
   ]
  },
  {
   "cell_type": "code",
   "execution_count": 45,
   "metadata": {},
   "outputs": [],
   "source": [
    "split= df['LoginID'].str.split(\"\\\\\", expand=True)"
   ]
  },
  {
   "cell_type": "code",
   "execution_count": 46,
   "metadata": {},
   "outputs": [
    {
     "data": {
      "text/html": [
       "<div>\n",
       "<style scoped>\n",
       "    .dataframe tbody tr th:only-of-type {\n",
       "        vertical-align: middle;\n",
       "    }\n",
       "\n",
       "    .dataframe tbody tr th {\n",
       "        vertical-align: top;\n",
       "    }\n",
       "\n",
       "    .dataframe thead th {\n",
       "        text-align: right;\n",
       "    }\n",
       "</style>\n",
       "<table border=\"1\" class=\"dataframe\">\n",
       "  <thead>\n",
       "    <tr style=\"text-align: right;\">\n",
       "      <th></th>\n",
       "      <th>0</th>\n",
       "      <th>1</th>\n",
       "    </tr>\n",
       "  </thead>\n",
       "  <tbody>\n",
       "    <tr>\n",
       "      <th>0</th>\n",
       "      <td>adventure-works</td>\n",
       "      <td>ken0</td>\n",
       "    </tr>\n",
       "    <tr>\n",
       "      <th>1</th>\n",
       "      <td>adventure-works</td>\n",
       "      <td>terri0</td>\n",
       "    </tr>\n",
       "    <tr>\n",
       "      <th>2</th>\n",
       "      <td>adventure-works</td>\n",
       "      <td>roberto0</td>\n",
       "    </tr>\n",
       "    <tr>\n",
       "      <th>3</th>\n",
       "      <td>adventure-works</td>\n",
       "      <td>rob0</td>\n",
       "    </tr>\n",
       "    <tr>\n",
       "      <th>4</th>\n",
       "      <td>adventure-works</td>\n",
       "      <td>rob0</td>\n",
       "    </tr>\n",
       "    <tr>\n",
       "      <th>...</th>\n",
       "      <td>...</td>\n",
       "      <td>...</td>\n",
       "    </tr>\n",
       "    <tr>\n",
       "      <th>291</th>\n",
       "      <td>adventure-works</td>\n",
       "      <td>lynn0</td>\n",
       "    </tr>\n",
       "    <tr>\n",
       "      <th>292</th>\n",
       "      <td>adventure-works</td>\n",
       "      <td>amy0</td>\n",
       "    </tr>\n",
       "    <tr>\n",
       "      <th>293</th>\n",
       "      <td>adventure-works</td>\n",
       "      <td>rachel0</td>\n",
       "    </tr>\n",
       "    <tr>\n",
       "      <th>294</th>\n",
       "      <td>adventure-works</td>\n",
       "      <td>jae0</td>\n",
       "    </tr>\n",
       "    <tr>\n",
       "      <th>295</th>\n",
       "      <td>adventure-works</td>\n",
       "      <td>ranjit0</td>\n",
       "    </tr>\n",
       "  </tbody>\n",
       "</table>\n",
       "<p>296 rows × 2 columns</p>\n",
       "</div>"
      ],
      "text/plain": [
       "                   0         1\n",
       "0    adventure-works      ken0\n",
       "1    adventure-works    terri0\n",
       "2    adventure-works  roberto0\n",
       "3    adventure-works      rob0\n",
       "4    adventure-works      rob0\n",
       "..               ...       ...\n",
       "291  adventure-works     lynn0\n",
       "292  adventure-works      amy0\n",
       "293  adventure-works   rachel0\n",
       "294  adventure-works      jae0\n",
       "295  adventure-works   ranjit0\n",
       "\n",
       "[296 rows x 2 columns]"
      ]
     },
     "execution_count": 46,
     "metadata": {},
     "output_type": "execute_result"
    }
   ],
   "source": [
    "split"
   ]
  },
  {
   "cell_type": "code",
   "execution_count": 47,
   "metadata": {},
   "outputs": [],
   "source": [
    "df['UserId']=split[1]"
   ]
  },
  {
   "cell_type": "code",
   "execution_count": 48,
   "metadata": {},
   "outputs": [
    {
     "data": {
      "text/html": [
       "<div>\n",
       "<style scoped>\n",
       "    .dataframe tbody tr th:only-of-type {\n",
       "        vertical-align: middle;\n",
       "    }\n",
       "\n",
       "    .dataframe tbody tr th {\n",
       "        vertical-align: top;\n",
       "    }\n",
       "\n",
       "    .dataframe thead th {\n",
       "        text-align: right;\n",
       "    }\n",
       "</style>\n",
       "<table border=\"1\" class=\"dataframe\">\n",
       "  <thead>\n",
       "    <tr style=\"text-align: right;\">\n",
       "      <th></th>\n",
       "      <th>LoginID</th>\n",
       "      <th>OrganizationLevel</th>\n",
       "      <th>JobTitle</th>\n",
       "      <th>BirthDate</th>\n",
       "      <th>MaritalStatus</th>\n",
       "      <th>Gender</th>\n",
       "      <th>VacationHours</th>\n",
       "      <th>SickLeaveHours</th>\n",
       "      <th>UserId</th>\n",
       "    </tr>\n",
       "  </thead>\n",
       "  <tbody>\n",
       "    <tr>\n",
       "      <th>0</th>\n",
       "      <td>adventure-works\\ken0</td>\n",
       "      <td>NaN</td>\n",
       "      <td>Chief Executive Officer</td>\n",
       "      <td>1969-01-29</td>\n",
       "      <td>S</td>\n",
       "      <td>M</td>\n",
       "      <td>99</td>\n",
       "      <td>69</td>\n",
       "      <td>ken0</td>\n",
       "    </tr>\n",
       "    <tr>\n",
       "      <th>1</th>\n",
       "      <td>adventure-works\\terri0</td>\n",
       "      <td>1.0</td>\n",
       "      <td>Vice President of Engineering</td>\n",
       "      <td>1971-08-01</td>\n",
       "      <td>S</td>\n",
       "      <td>F</td>\n",
       "      <td>1</td>\n",
       "      <td>20</td>\n",
       "      <td>terri0</td>\n",
       "    </tr>\n",
       "    <tr>\n",
       "      <th>2</th>\n",
       "      <td>adventure-works\\roberto0</td>\n",
       "      <td>2.0</td>\n",
       "      <td>Engineering Manager</td>\n",
       "      <td>1974-11-12</td>\n",
       "      <td>M</td>\n",
       "      <td>M</td>\n",
       "      <td>2</td>\n",
       "      <td>21</td>\n",
       "      <td>roberto0</td>\n",
       "    </tr>\n",
       "    <tr>\n",
       "      <th>3</th>\n",
       "      <td>adventure-works\\rob0</td>\n",
       "      <td>3.0</td>\n",
       "      <td>Senior Tool Designer</td>\n",
       "      <td>1974-12-23</td>\n",
       "      <td>S</td>\n",
       "      <td>M</td>\n",
       "      <td>48</td>\n",
       "      <td>80</td>\n",
       "      <td>rob0</td>\n",
       "    </tr>\n",
       "    <tr>\n",
       "      <th>4</th>\n",
       "      <td>adventure-works\\rob0</td>\n",
       "      <td>3.0</td>\n",
       "      <td>Senior Tool Designer</td>\n",
       "      <td>1974-12-23</td>\n",
       "      <td>S</td>\n",
       "      <td>M</td>\n",
       "      <td>48</td>\n",
       "      <td>80</td>\n",
       "      <td>rob0</td>\n",
       "    </tr>\n",
       "  </tbody>\n",
       "</table>\n",
       "</div>"
      ],
      "text/plain": [
       "                    LoginID  OrganizationLevel                       JobTitle  \\\n",
       "0      adventure-works\\ken0                NaN        Chief Executive Officer   \n",
       "1    adventure-works\\terri0                1.0  Vice President of Engineering   \n",
       "2  adventure-works\\roberto0                2.0            Engineering Manager   \n",
       "3      adventure-works\\rob0                3.0           Senior Tool Designer   \n",
       "4      adventure-works\\rob0                3.0           Senior Tool Designer   \n",
       "\n",
       "    BirthDate MaritalStatus Gender  VacationHours  SickLeaveHours    UserId  \n",
       "0  1969-01-29             S      M             99              69      ken0  \n",
       "1  1971-08-01             S      F              1              20    terri0  \n",
       "2  1974-11-12             M      M              2              21  roberto0  \n",
       "3  1974-12-23             S      M             48              80      rob0  \n",
       "4  1974-12-23             S      M             48              80      rob0  "
      ]
     },
     "execution_count": 48,
     "metadata": {},
     "output_type": "execute_result"
    }
   ],
   "source": [
    "df.head()"
   ]
  },
  {
   "cell_type": "code",
   "execution_count": 51,
   "metadata": {},
   "outputs": [],
   "source": [
    "df = df.drop('LoginID', axis=1)"
   ]
  },
  {
   "cell_type": "code",
   "execution_count": 52,
   "metadata": {},
   "outputs": [
    {
     "data": {
      "text/html": [
       "<div>\n",
       "<style scoped>\n",
       "    .dataframe tbody tr th:only-of-type {\n",
       "        vertical-align: middle;\n",
       "    }\n",
       "\n",
       "    .dataframe tbody tr th {\n",
       "        vertical-align: top;\n",
       "    }\n",
       "\n",
       "    .dataframe thead th {\n",
       "        text-align: right;\n",
       "    }\n",
       "</style>\n",
       "<table border=\"1\" class=\"dataframe\">\n",
       "  <thead>\n",
       "    <tr style=\"text-align: right;\">\n",
       "      <th></th>\n",
       "      <th>OrganizationLevel</th>\n",
       "      <th>JobTitle</th>\n",
       "      <th>BirthDate</th>\n",
       "      <th>MaritalStatus</th>\n",
       "      <th>Gender</th>\n",
       "      <th>VacationHours</th>\n",
       "      <th>SickLeaveHours</th>\n",
       "      <th>UserId</th>\n",
       "    </tr>\n",
       "  </thead>\n",
       "  <tbody>\n",
       "    <tr>\n",
       "      <th>0</th>\n",
       "      <td>NaN</td>\n",
       "      <td>Chief Executive Officer</td>\n",
       "      <td>1969-01-29</td>\n",
       "      <td>S</td>\n",
       "      <td>M</td>\n",
       "      <td>99</td>\n",
       "      <td>69</td>\n",
       "      <td>ken0</td>\n",
       "    </tr>\n",
       "    <tr>\n",
       "      <th>1</th>\n",
       "      <td>1.0</td>\n",
       "      <td>Vice President of Engineering</td>\n",
       "      <td>1971-08-01</td>\n",
       "      <td>S</td>\n",
       "      <td>F</td>\n",
       "      <td>1</td>\n",
       "      <td>20</td>\n",
       "      <td>terri0</td>\n",
       "    </tr>\n",
       "    <tr>\n",
       "      <th>2</th>\n",
       "      <td>2.0</td>\n",
       "      <td>Engineering Manager</td>\n",
       "      <td>1974-11-12</td>\n",
       "      <td>M</td>\n",
       "      <td>M</td>\n",
       "      <td>2</td>\n",
       "      <td>21</td>\n",
       "      <td>roberto0</td>\n",
       "    </tr>\n",
       "    <tr>\n",
       "      <th>3</th>\n",
       "      <td>3.0</td>\n",
       "      <td>Senior Tool Designer</td>\n",
       "      <td>1974-12-23</td>\n",
       "      <td>S</td>\n",
       "      <td>M</td>\n",
       "      <td>48</td>\n",
       "      <td>80</td>\n",
       "      <td>rob0</td>\n",
       "    </tr>\n",
       "    <tr>\n",
       "      <th>4</th>\n",
       "      <td>3.0</td>\n",
       "      <td>Senior Tool Designer</td>\n",
       "      <td>1974-12-23</td>\n",
       "      <td>S</td>\n",
       "      <td>M</td>\n",
       "      <td>48</td>\n",
       "      <td>80</td>\n",
       "      <td>rob0</td>\n",
       "    </tr>\n",
       "  </tbody>\n",
       "</table>\n",
       "</div>"
      ],
      "text/plain": [
       "   OrganizationLevel                       JobTitle   BirthDate MaritalStatus  \\\n",
       "0                NaN        Chief Executive Officer  1969-01-29             S   \n",
       "1                1.0  Vice President of Engineering  1971-08-01             S   \n",
       "2                2.0            Engineering Manager  1974-11-12             M   \n",
       "3                3.0           Senior Tool Designer  1974-12-23             S   \n",
       "4                3.0           Senior Tool Designer  1974-12-23             S   \n",
       "\n",
       "  Gender  VacationHours  SickLeaveHours    UserId  \n",
       "0      M             99              69      ken0  \n",
       "1      F              1              20    terri0  \n",
       "2      M              2              21  roberto0  \n",
       "3      M             48              80      rob0  \n",
       "4      M             48              80      rob0  "
      ]
     },
     "execution_count": 52,
     "metadata": {},
     "output_type": "execute_result"
    }
   ],
   "source": [
    "df.head()"
   ]
  },
  {
   "cell_type": "code",
   "execution_count": 54,
   "metadata": {},
   "outputs": [],
   "source": [
    "df.dropna(inplace=True)"
   ]
  },
  {
   "cell_type": "code",
   "execution_count": 55,
   "metadata": {},
   "outputs": [
    {
     "data": {
      "text/html": [
       "<div>\n",
       "<style scoped>\n",
       "    .dataframe tbody tr th:only-of-type {\n",
       "        vertical-align: middle;\n",
       "    }\n",
       "\n",
       "    .dataframe tbody tr th {\n",
       "        vertical-align: top;\n",
       "    }\n",
       "\n",
       "    .dataframe thead th {\n",
       "        text-align: right;\n",
       "    }\n",
       "</style>\n",
       "<table border=\"1\" class=\"dataframe\">\n",
       "  <thead>\n",
       "    <tr style=\"text-align: right;\">\n",
       "      <th></th>\n",
       "      <th>OrganizationLevel</th>\n",
       "      <th>JobTitle</th>\n",
       "      <th>BirthDate</th>\n",
       "      <th>MaritalStatus</th>\n",
       "      <th>Gender</th>\n",
       "      <th>VacationHours</th>\n",
       "      <th>SickLeaveHours</th>\n",
       "      <th>UserId</th>\n",
       "    </tr>\n",
       "  </thead>\n",
       "  <tbody>\n",
       "    <tr>\n",
       "      <th>1</th>\n",
       "      <td>1.0</td>\n",
       "      <td>Vice President of Engineering</td>\n",
       "      <td>1971-08-01</td>\n",
       "      <td>S</td>\n",
       "      <td>F</td>\n",
       "      <td>1</td>\n",
       "      <td>20</td>\n",
       "      <td>terri0</td>\n",
       "    </tr>\n",
       "    <tr>\n",
       "      <th>2</th>\n",
       "      <td>2.0</td>\n",
       "      <td>Engineering Manager</td>\n",
       "      <td>1974-11-12</td>\n",
       "      <td>M</td>\n",
       "      <td>M</td>\n",
       "      <td>2</td>\n",
       "      <td>21</td>\n",
       "      <td>roberto0</td>\n",
       "    </tr>\n",
       "    <tr>\n",
       "      <th>3</th>\n",
       "      <td>3.0</td>\n",
       "      <td>Senior Tool Designer</td>\n",
       "      <td>1974-12-23</td>\n",
       "      <td>S</td>\n",
       "      <td>M</td>\n",
       "      <td>48</td>\n",
       "      <td>80</td>\n",
       "      <td>rob0</td>\n",
       "    </tr>\n",
       "    <tr>\n",
       "      <th>4</th>\n",
       "      <td>3.0</td>\n",
       "      <td>Senior Tool Designer</td>\n",
       "      <td>1974-12-23</td>\n",
       "      <td>S</td>\n",
       "      <td>M</td>\n",
       "      <td>48</td>\n",
       "      <td>80</td>\n",
       "      <td>rob0</td>\n",
       "    </tr>\n",
       "    <tr>\n",
       "      <th>5</th>\n",
       "      <td>3.0</td>\n",
       "      <td>Design Engineer</td>\n",
       "      <td>1952-09-27</td>\n",
       "      <td>M</td>\n",
       "      <td>F</td>\n",
       "      <td>5</td>\n",
       "      <td>22</td>\n",
       "      <td>gail0</td>\n",
       "    </tr>\n",
       "  </tbody>\n",
       "</table>\n",
       "</div>"
      ],
      "text/plain": [
       "   OrganizationLevel                       JobTitle   BirthDate MaritalStatus  \\\n",
       "1                1.0  Vice President of Engineering  1971-08-01             S   \n",
       "2                2.0            Engineering Manager  1974-11-12             M   \n",
       "3                3.0           Senior Tool Designer  1974-12-23             S   \n",
       "4                3.0           Senior Tool Designer  1974-12-23             S   \n",
       "5                3.0                Design Engineer  1952-09-27             M   \n",
       "\n",
       "  Gender  VacationHours  SickLeaveHours    UserId  \n",
       "1      F              1              20    terri0  \n",
       "2      M              2              21  roberto0  \n",
       "3      M             48              80      rob0  \n",
       "4      M             48              80      rob0  \n",
       "5      F              5              22     gail0  "
      ]
     },
     "execution_count": 55,
     "metadata": {},
     "output_type": "execute_result"
    }
   ],
   "source": [
    "df.head()"
   ]
  },
  {
   "cell_type": "code",
   "execution_count": 57,
   "metadata": {},
   "outputs": [
    {
     "data": {
      "text/plain": [
       "<seaborn.axisgrid.PairGrid at 0x7ffbabacbd60>"
      ]
     },
     "execution_count": 57,
     "metadata": {},
     "output_type": "execute_result"
    },
    {
     "data": {
      "image/png": "[encoded data removed]",
      "text/plain": [
       "<Figure size 540x540 with 12 Axes>"
      ]
     },
     "metadata": {
      "needs_background": "light"
     },
     "output_type": "display_data"
    }
   ],
   "source": [
    "sns.pairplot(df)"
   ]
  },
  {
   "cell_type": "code",
   "execution_count": 76,
   "metadata": {},
   "outputs": [
    {
     "data": {
      "text/plain": [
       "Text(0.5, 0, 'GENDER')"
      ]
     },
     "execution_count": 76,
     "metadata": {},
     "output_type": "execute_result"
    },
    {
     "data": {
      "image/png": "[encoded data removed]",
      "text/plain": [
       "<Figure size 864x432 with 1 Axes>"
      ]
     },
     "metadata": {
      "needs_background": "light"
     },
     "output_type": "display_data"
    }
   ],
   "source": [
    "plt.figure(figsize=(12,6))\n",
    "count = sns.countplot(data=df, x='Gender', hue='MaritalStatus', palette='mako')\n",
    "count.set_title('Count of Gender by Marital status')\n",
    "count.set_ylabel('COUNT')\n",
    "count.set_xlabel('GENDER')"
   ]
  },
  {
   "cell_type": "code",
   "execution_count": 80,
   "metadata": {},
   "outputs": [
    {
     "data": {
      "text/plain": [
       "<seaborn.axisgrid.JointGrid at 0x7ffb8eaad790>"
      ]
     },
     "execution_count": 80,
     "metadata": {},
     "output_type": "execute_result"
    },
    {
     "data": {
      "image/png": "[encoded data removed]",
      "text/plain": [
       "<Figure size 432x432 with 3 Axes>"
      ]
     },
     "metadata": {
      "needs_background": "light"
     },
     "output_type": "display_data"
    }
   ],
   "source": [
    "sns.jointplot(data=df, x='VacationHours', y='SickLeaveHours', kind='hex')"
   ]
  },
  {
   "cell_type": "code",
   "execution_count": 87,
   "metadata": {},
   "outputs": [
    {
     "data": {
      "image/png": "[encoded data removed]",
      "text/plain": [
       "<Figure size 432x288 with 1 Axes>"
      ]
     },
     "metadata": {
      "needs_background": "light"
     },
     "output_type": "display_data"
    }
   ],
   "source": [
    "g=df.groupby(by='BirthDate').count()['MaritalStatus'].plot(kind='bar')"
   ]
  },
  {
   "cell_type": "code",
   "execution_count": 88,
   "metadata": {},
   "outputs": [
    {
     "data": {
      "text/plain": [
       "<matplotlib.axes._subplots.AxesSubplot at 0x7ffb90883850>"
      ]
     },
     "execution_count": 88,
     "metadata": {},
     "output_type": "execute_result"
    },
    {
     "data": {
      "image/png": "[encoded data removed]",
      "text/plain": [
       "<Figure size 432x288 with 1 Axes>"
      ]
     },
     "metadata": {
      "needs_background": "light"
     },
     "output_type": "display_data"
    }
   ],
   "source": [
    "sns.distplot(a=df['VacationHours'])"
   ]
  },
  {
   "cell_type": "code",
   "execution_count": 90,
   "metadata": {},
   "outputs": [
    {
     "data": {
      "text/plain": [
       "<matplotlib.axes._subplots.AxesSubplot at 0x7ffb90de4df0>"
      ]
     },
     "execution_count": 90,
     "metadata": {},
     "output_type": "execute_result"
    },
    {
     "data": {
      "image/png": "[encoded data removed]",
      "text/plain": [
       "<Figure size 432x288 with 1 Axes>"
      ]
     },
     "metadata": {
      "needs_background": "light"
     },
     "output_type": "display_data"
    }
   ],
   "source": [
    "sns.violinplot(data=df, x='VacationHours', y='Gender', palette='mako')"
   ]
  },
  {
   "cell_type": "code",
   "execution_count": null,
   "metadata": {},
   "outputs": [],
   "source": []
  }
 ],
 "metadata": {
  "kernelspec": {
   "display_name": "Python 3",
   "language": "python",
   "name": "python3"
  },
  "language_info": {
   "codemirror_mode": {
    "name": "ipython",
    "version": 3
   },
   "file_extension": ".py",
   "mimetype": "text/x-python",
   "name": "python",
   "nbconvert_exporter": "python",
   "pygments_lexer": "ipython3",
   "version": "3.8.3"
  }
 },
 "nbformat": 4,
 "nbformat_minor": 4
}
